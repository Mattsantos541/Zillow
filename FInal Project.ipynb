{
 "cells": [
  {
   "cell_type": "markdown",
   "metadata": {},
   "source": [
    "Import\n",
    "Import the neccesary libraries to be able to find a baseline model, as well as add features\n",
    "Goal: leave this section with a dataframe ready to prepare.\n",
    "\n",
    "The ad hoc part includes summarizing your data as you read it in and begin to explore, look at the first few rows, data types, summary stats, column names, shape of the data frame, etc."
   ]
  },
  {
   "cell_type": "code",
   "execution_count": 1,
   "metadata": {},
   "outputs": [],
   "source": [
    "import pandas as pd\n",
    "import numpy as np\n",
    "import matplotlib.pyplot as plt\n",
    "import seaborn as sns\n",
    "from sklearn.model_selection import train_test_split\n",
    "from sklearn.metrics import mean_squared_error,r2_score,explained_variance_score\n",
    "from sklearn.preprocessing import StandardScaler,MinMaxScaler\n",
    "from sklearn.linear_model import LinearRegression\n",
    "from math import sqrt\n",
    "import warnings\n",
    "warnings.filterwarnings(\"ignore\")\n",
    "import statsmodels.api as sm\n",
    "from statsmodels.sandbox.regression.predstd import wls_prediction_std\n",
    "from sklearn.linear_model import LassoCV\n",
    "\n",
    "\n",
    "\n",
    "plt.rc(\"axes.spines\", top=False, right=False)\n",
    "\n",
    "\n",
    "import wrangle\n",
    "import split_scale\n",
    "import evaluate\n",
    "import prep\n",
    "import explore\n",
    "import model"
   ]
  },
  {
   "cell_type": "code",
   "execution_count": 2,
   "metadata": {},
   "outputs": [],
   "source": [
    "from env import host, user, password"
   ]
  },
  {
   "cell_type": "markdown",
   "metadata": {},
   "source": [
    "Prep\n",
    "Goal: leave this section with a dataset that is ready to be analyzed. Data types are appropriate, missing values have been addressed, as have any data integrity issues."
   ]
  },
  {
   "cell_type": "code",
   "execution_count": 3,
   "metadata": {},
   "outputs": [],
   "source": [
    "#data for baseline model\n",
    "df_base=wrangle.get_data_from_mysql()"
   ]
  },
  {
   "cell_type": "code",
   "execution_count": 4,
   "metadata": {},
   "outputs": [
    {
     "data": {
      "text/html": [
       "<div>\n",
       "<style scoped>\n",
       "    .dataframe tbody tr th:only-of-type {\n",
       "        vertical-align: middle;\n",
       "    }\n",
       "\n",
       "    .dataframe tbody tr th {\n",
       "        vertical-align: top;\n",
       "    }\n",
       "\n",
       "    .dataframe thead th {\n",
       "        text-align: right;\n",
       "    }\n",
       "</style>\n",
       "<table border=\"1\" class=\"dataframe\">\n",
       "  <thead>\n",
       "    <tr style=\"text-align: right;\">\n",
       "      <th></th>\n",
       "      <th>transactiondate</th>\n",
       "      <th>id</th>\n",
       "      <th>bathrooms</th>\n",
       "      <th>bedrooms</th>\n",
       "      <th>lotsizesquarefeet</th>\n",
       "      <th>sqft</th>\n",
       "      <th>tax_value</th>\n",
       "      <th>region_id</th>\n",
       "    </tr>\n",
       "  </thead>\n",
       "  <tbody>\n",
       "    <tr>\n",
       "      <th>0</th>\n",
       "      <td>2017-06-30</td>\n",
       "      <td>1772</td>\n",
       "      <td>2.0</td>\n",
       "      <td>4.0</td>\n",
       "      <td>6211.0</td>\n",
       "      <td>1604.0</td>\n",
       "      <td>498347.0</td>\n",
       "      <td>12447.0</td>\n",
       "    </tr>\n",
       "    <tr>\n",
       "      <th>1</th>\n",
       "      <td>2017-06-01</td>\n",
       "      <td>2028</td>\n",
       "      <td>3.0</td>\n",
       "      <td>3.0</td>\n",
       "      <td>9109.0</td>\n",
       "      <td>2384.0</td>\n",
       "      <td>549917.0</td>\n",
       "      <td>12447.0</td>\n",
       "    </tr>\n",
       "    <tr>\n",
       "      <th>2</th>\n",
       "      <td>2017-06-01</td>\n",
       "      <td>3273</td>\n",
       "      <td>2.0</td>\n",
       "      <td>3.0</td>\n",
       "      <td>7538.0</td>\n",
       "      <td>1574.0</td>\n",
       "      <td>235272.0</td>\n",
       "      <td>5534.0</td>\n",
       "    </tr>\n",
       "    <tr>\n",
       "      <th>3</th>\n",
       "      <td>2017-06-29</td>\n",
       "      <td>3429</td>\n",
       "      <td>2.0</td>\n",
       "      <td>2.0</td>\n",
       "      <td>111564.0</td>\n",
       "      <td>1619.0</td>\n",
       "      <td>340000.0</td>\n",
       "      <td>40227.0</td>\n",
       "    </tr>\n",
       "    <tr>\n",
       "      <th>4</th>\n",
       "      <td>2017-06-27</td>\n",
       "      <td>4505</td>\n",
       "      <td>3.0</td>\n",
       "      <td>2.0</td>\n",
       "      <td>10497.0</td>\n",
       "      <td>2408.0</td>\n",
       "      <td>2017254.0</td>\n",
       "      <td>12447.0</td>\n",
       "    </tr>\n",
       "  </tbody>\n",
       "</table>\n",
       "</div>"
      ],
      "text/plain": [
       "  transactiondate    id  bathrooms  bedrooms  lotsizesquarefeet    sqft  \\\n",
       "0      2017-06-30  1772        2.0       4.0             6211.0  1604.0   \n",
       "1      2017-06-01  2028        3.0       3.0             9109.0  2384.0   \n",
       "2      2017-06-01  3273        2.0       3.0             7538.0  1574.0   \n",
       "3      2017-06-29  3429        2.0       2.0           111564.0  1619.0   \n",
       "4      2017-06-27  4505        3.0       2.0            10497.0  2408.0   \n",
       "\n",
       "   tax_value  region_id  \n",
       "0   498347.0    12447.0  \n",
       "1   549917.0    12447.0  \n",
       "2   235272.0     5534.0  \n",
       "3   340000.0    40227.0  \n",
       "4  2017254.0    12447.0  "
      ]
     },
     "execution_count": 4,
     "metadata": {},
     "output_type": "execute_result"
    }
   ],
   "source": [
    "df_base.head()"
   ]
  },
  {
   "cell_type": "code",
   "execution_count": 5,
   "metadata": {},
   "outputs": [],
   "source": [
    "df_tax = wrangle.taxes()"
   ]
  },
  {
   "cell_type": "code",
   "execution_count": 6,
   "metadata": {},
   "outputs": [
    {
     "data": {
      "text/html": [
       "<div>\n",
       "<style scoped>\n",
       "    .dataframe tbody tr th:only-of-type {\n",
       "        vertical-align: middle;\n",
       "    }\n",
       "\n",
       "    .dataframe tbody tr th {\n",
       "        vertical-align: top;\n",
       "    }\n",
       "\n",
       "    .dataframe thead th {\n",
       "        text-align: right;\n",
       "    }\n",
       "</style>\n",
       "<table border=\"1\" class=\"dataframe\">\n",
       "  <thead>\n",
       "    <tr style=\"text-align: right;\">\n",
       "      <th></th>\n",
       "      <th>tax_value</th>\n",
       "      <th>fips</th>\n",
       "      <th>taxamount</th>\n",
       "      <th>tax_rate</th>\n",
       "    </tr>\n",
       "  </thead>\n",
       "  <tbody>\n",
       "    <tr>\n",
       "      <th>0</th>\n",
       "      <td>498347.0</td>\n",
       "      <td>6037.0</td>\n",
       "      <td>6089.82</td>\n",
       "      <td>0.0122</td>\n",
       "    </tr>\n",
       "    <tr>\n",
       "      <th>1</th>\n",
       "      <td>549917.0</td>\n",
       "      <td>6037.0</td>\n",
       "      <td>6679.55</td>\n",
       "      <td>0.0121</td>\n",
       "    </tr>\n",
       "    <tr>\n",
       "      <th>2</th>\n",
       "      <td>235272.0</td>\n",
       "      <td>6037.0</td>\n",
       "      <td>3876.31</td>\n",
       "      <td>0.0165</td>\n",
       "    </tr>\n",
       "    <tr>\n",
       "      <th>3</th>\n",
       "      <td>340000.0</td>\n",
       "      <td>6037.0</td>\n",
       "      <td>4206.15</td>\n",
       "      <td>0.0124</td>\n",
       "    </tr>\n",
       "    <tr>\n",
       "      <th>4</th>\n",
       "      <td>2017254.0</td>\n",
       "      <td>6037.0</td>\n",
       "      <td>24353.42</td>\n",
       "      <td>0.0121</td>\n",
       "    </tr>\n",
       "  </tbody>\n",
       "</table>\n",
       "</div>"
      ],
      "text/plain": [
       "   tax_value    fips  taxamount  tax_rate\n",
       "0   498347.0  6037.0    6089.82    0.0122\n",
       "1   549917.0  6037.0    6679.55    0.0121\n",
       "2   235272.0  6037.0    3876.31    0.0165\n",
       "3   340000.0  6037.0    4206.15    0.0124\n",
       "4  2017254.0  6037.0   24353.42    0.0121"
      ]
     },
     "execution_count": 6,
     "metadata": {},
     "output_type": "execute_result"
    }
   ],
   "source": [
    "df_tax.head()"
   ]
  },
  {
   "cell_type": "markdown",
   "metadata": {},
   "source": [
    "clean baseline data to only include: bedrooms, bathrooms, and squarefeet"
   ]
  },
  {
   "cell_type": "code",
   "execution_count": 7,
   "metadata": {},
   "outputs": [],
   "source": [
    "df_base= prep.base_clean(df_base)"
   ]
  },
  {
   "cell_type": "markdown",
   "metadata": {},
   "source": [
    "Clean up of tax information and acquiring county names based on fips field"
   ]
  },
  {
   "cell_type": "code",
   "execution_count": 8,
   "metadata": {},
   "outputs": [],
   "source": [
    "df_tax= prep.tax_data_clean(df_tax)"
   ]
  },
  {
   "cell_type": "markdown",
   "metadata": {},
   "source": [
    "SPLIT & SCALE:\n",
    "\n",
    "Goal: leave this section with 2 dataframes (train & test) and scaled data"
   ]
  },
  {
   "cell_type": "code",
   "execution_count": 9,
   "metadata": {},
   "outputs": [],
   "source": [
    "train, test= split_scale.split_my_data(df_base, train_ratio=0.8, seed=123)"
   ]
  },
  {
   "cell_type": "code",
   "execution_count": 10,
   "metadata": {},
   "outputs": [],
   "source": [
    "#labeling the train and test data\n",
    "X_train = train.drop(columns='tax_value')\n",
    "y_train = train[['tax_value']]\n",
    "X_test = test.drop(columns='tax_value')\n",
    "y_test = test[['tax_value']]"
   ]
  },
  {
   "cell_type": "markdown",
   "metadata": {},
   "source": [
    "DATA EXPLORATION\n",
    "\n",
    "Goal: Address each of the questions you posed in your planning and brainstorming and any others you have come up with along the way through visual or statistical analysis."
   ]
  },
  {
   "cell_type": "markdown",
   "metadata": {},
   "source": [
    "baseline: bedrooms, bathrooms, squarefeet"
   ]
  },
  {
   "cell_type": "code",
   "execution_count": 11,
   "metadata": {},
   "outputs": [
    {
     "data": {
      "image/png": "[encoded data removed]",
      "text/plain": [
       "<Figure size 720x720 with 20 Axes>"
      ]
     },
     "metadata": {
      "needs_background": "light"
     },
     "output_type": "display_data"
    }
   ],
   "source": [
    "explore.pairplot(df_base)"
   ]
  },
  {
   "cell_type": "code",
   "execution_count": 12,
   "metadata": {},
   "outputs": [
    {
     "data": {
      "image/png": "[encoded data removed]",
      "text/plain": [
       "<Figure size 432x288 with 1 Axes>"
      ]
     },
     "metadata": {
      "needs_background": "light"
     },
     "output_type": "display_data"
    },
    {
     "data": {
      "image/png": "[encoded data removed]",
      "text/plain": [
       "<Figure size 432x288 with 1 Axes>"
      ]
     },
     "metadata": {
      "needs_background": "light"
     },
     "output_type": "display_data"
    },
    {
     "data": {
      "image/png": "[encoded data removed]",
      "text/plain": [
       "<Figure size 432x288 with 1 Axes>"
      ]
     },
     "metadata": {
      "needs_background": "light"
     },
     "output_type": "display_data"
    }
   ],
   "source": [
    "explore.distribution_plot(df_base)"
   ]
  },
  {
   "cell_type": "markdown",
   "metadata": {},
   "source": [
    "Tax distribution by county: Orange, Ventura, and Los Angeles"
   ]
  },
  {
   "cell_type": "code",
   "execution_count": 13,
   "metadata": {},
   "outputs": [
    {
     "data": {
      "image/png": "[encoded data removed]",
      "text/plain": [
       "<Figure size 648x216 with 3 Axes>"
      ]
     },
     "metadata": {
      "needs_background": "light"
     },
     "output_type": "display_data"
    }
   ],
   "source": [
    "prep.tax_dist(df_tax)"
   ]
  },
  {
   "cell_type": "markdown",
   "metadata": {},
   "source": [
    "Split and Scale\n",
    "Data was split using an 80/20 train/test split set to randomstate 123\n",
    "\n",
    "Goal: leave this section with 2 dataframes (train & test) and scaled data"
   ]
  },
  {
   "cell_type": "code",
   "execution_count": 14,
   "metadata": {},
   "outputs": [],
   "source": [
    "train, test= split_scale.split_my_data(df_base, train_ratio=0.8, seed=123)"
   ]
  },
  {
   "cell_type": "code",
   "execution_count": 15,
   "metadata": {},
   "outputs": [],
   "source": [
    "#labeling the train and test data\n",
    "X_train = train.drop(columns='tax_value')\n",
    "y_train = train[['tax_value']]\n",
    "X_test = test.drop(columns='tax_value')\n",
    "y_test = test[['tax_value']]"
   ]
  },
  {
   "cell_type": "markdown",
   "metadata": {},
   "source": [
    "Data exploration"
   ]
  },
  {
   "cell_type": "code",
   "execution_count": 16,
   "metadata": {},
   "outputs": [
    {
     "data": {
      "image/png": "[encoded data removed]",
      "text/plain": [
       "<Figure size 576x432 with 2 Axes>"
      ]
     },
     "metadata": {
      "needs_background": "light"
     },
     "output_type": "display_data"
    }
   ],
   "source": [
    "explore.corr_plot(train)"
   ]
  },
  {
   "cell_type": "code",
   "execution_count": 17,
   "metadata": {},
   "outputs": [
    {
     "data": {
      "text/plain": [
       "(Ttest_indResult(statistic=array([81.73131316]), pvalue=array([0.])),\n",
       " <class 'statsmodels.iolib.summary.Summary'>\n",
       " \"\"\"\n",
       "                                  OLS Regression Results                                \n",
       " =======================================================================================\n",
       " Dep. Variable:              tax_value   R-squared (uncentered):                   0.635\n",
       " Model:                            OLS   Adj. R-squared (uncentered):              0.635\n",
       " Method:                 Least Squares   F-statistic:                              7277.\n",
       " Date:                Mon, 21 Oct 2019   Prob (F-statistic):                        0.00\n",
       " Time:                        07:34:31   Log-Likelihood:                     -1.8146e+05\n",
       " No. Observations:               12535   AIC:                                  3.629e+05\n",
       " Df Residuals:                   12532   BIC:                                  3.630e+05\n",
       " Df Model:                           3                                                  \n",
       " Covariance Type:            nonrobust                                                  \n",
       " ==============================================================================\n",
       "                  coef    std err          t      P>|t|      [0.025      0.975]\n",
       " ------------------------------------------------------------------------------\n",
       " bedrooms   -1.513e+05   3971.336    -38.102      0.000   -1.59e+05   -1.44e+05\n",
       " bathrooms   3.932e+04   8054.075      4.882      0.000    2.35e+04    5.51e+04\n",
       " sqft         474.0022      8.166     58.049      0.000     457.996     490.008\n",
       " ==============================================================================\n",
       " Omnibus:                    17328.942   Durbin-Watson:                   1.993\n",
       " Prob(Omnibus):                  0.000   Jarque-Bera (JB):         11695694.929\n",
       " Skew:                           7.677   Prob(JB):                         0.00\n",
       " Kurtosis:                     151.853   Cond. No.                     4.12e+03\n",
       " ==============================================================================\n",
       " \n",
       " Warnings:\n",
       " [1] Standard Errors assume that the covariance matrix of the errors is correctly specified.\n",
       " [2] The condition number is large, 4.12e+03. This might indicate that there are\n",
       " strong multicollinearity or other numerical problems.\n",
       " \"\"\")"
      ]
     },
     "execution_count": 17,
     "metadata": {},
     "output_type": "execute_result"
    }
   ],
   "source": [
    "#T Test\n",
    "explore.stats_test(y_train,X_train)"
   ]
  },
  {
   "cell_type": "markdown",
   "metadata": {},
   "source": [
    "Plotting the Resduals- based on what appears to be most correlated of the variables from the MVP requirment."
   ]
  },
  {
   "cell_type": "code",
   "execution_count": 18,
   "metadata": {},
   "outputs": [
    {
     "data": {
      "text/plain": [
       "<matplotlib.axes._subplots.AxesSubplot at 0x1c19fb4b00>"
      ]
     },
     "execution_count": 18,
     "metadata": {},
     "output_type": "execute_result"
    },
    {
     "data": {
      "image/png": "[encoded data removed]",
      "text/plain": [
       "<Figure size 432x288 with 1 Axes>"
      ]
     },
     "metadata": {
      "needs_background": "light"
     },
     "output_type": "display_data"
    }
   ],
   "source": [
    "model.plot_residuals( df_base[['sqft']], df_base[['tax_value']])"
   ]
  },
  {
   "cell_type": "markdown",
   "metadata": {},
   "source": [
    "Feature Selection\n",
    "\n",
    "Goal: leave this section with a dataframe with the features to be used to build your model.\n",
    "\n",
    "After running a several test for optimal features to add to this model (see Engineering notebook)\n",
    "the baseline feature were optimal for finding this project\n",
    "\n",
    "Below you will see that by grouping by fips(County) did improve the correlation. "
   ]
  },
  {
   "cell_type": "code",
   "execution_count": 19,
   "metadata": {},
   "outputs": [
    {
     "ename": "SyntaxError",
     "evalue": "invalid syntax (<ipython-input-19-8c6f82a828ef>, line 3)",
     "output_type": "error",
     "traceback": [
      "\u001b[0;36m  File \u001b[0;32m\"<ipython-input-19-8c6f82a828ef>\"\u001b[0;36m, line \u001b[0;32m3\u001b[0m\n\u001b[0;31m    Goal: develop a regression model that performs better than a baseline.\u001b[0m\n\u001b[0m                  ^\u001b[0m\n\u001b[0;31mSyntaxError\u001b[0m\u001b[0;31m:\u001b[0m invalid syntax\n"
     ]
    }
   ],
   "source": [
    "MODELING & EVALUATION\n",
    "\n",
    "Goal: develop a regression model that performs better than a baseline."
   ]
  },
  {
   "cell_type": "code",
   "execution_count": null,
   "metadata": {},
   "outputs": [],
   "source": [
    "#creating baseline with mean of tax value\n",
    "train['tax_value'] = train.tax_value.mean()\n"
   ]
  },
  {
   "cell_type": "code",
   "execution_count": null,
   "metadata": {},
   "outputs": [],
   "source": [
    "#creating residual of tax value vs expected tax value\n",
    "train['residual'] = train['yhat'] - train['tax_value']\n",
    "train['residual2'] = train.residual **2"
   ]
  },
  {
   "cell_type": "markdown",
   "metadata": {},
   "source": [
    "Modeling for the MVP- using bedrooms, bathrooms, and sqfeet"
   ]
  },
  {
   "cell_type": "code",
   "execution_count": null,
   "metadata": {},
   "outputs": [],
   "source": [
    "from sklearn.linear_model import LinearRegression\n",
    "#pick model type, Linear Regression for the MVP baseline\n",
    "lm = LinearRegression()\n",
    "#fit and train model\n",
    "lm.fit(X_train,y_train)\n",
    "lm_y_intercept = lm.intercept_\n",
    "lm_coefficients = lm.coef_\n",
    "\n",
    "print('{} = b + m1 * {} + m2 * {}'.format(y_train.columns[0], X_train.columns[0],X_train.columns[1]))\n",
    "print('    y-intercept  (b): %.2f' % lm_y_intercept)\n",
    "print('    coefficient (m1): %.2f' % lm_coefficients[0][0])\n",
    "print('    coefficient (m2): %.2f' % lm_coefficients[0][1])"
   ]
  },
  {
   "cell_type": "code",
   "execution_count": null,
   "metadata": {},
   "outputs": [],
   "source": [
    "#converting y_train Series\n",
    "y_train = y_train.tax_value"
   ]
  },
  {
   "cell_type": "code",
   "execution_count": null,
   "metadata": {},
   "outputs": [],
   "source": [
    "#MSE, SSE, RMSE\n",
    "import math\n",
    "sse = sum(train.residual2)\n",
    "mse = sse/len(train)\n",
    "rmse = math.sqrt(mse)\n",
    "r2 = ols_model.rsquared\n",
    "print(sse,mse,rmse,r2)"
   ]
  },
  {
   "cell_type": "code",
   "execution_count": null,
   "metadata": {},
   "outputs": [],
   "source": [
    "base_predictions = model.modeling_function(X_train, X_test, y_train, y_test)"
   ]
  },
  {
   "cell_type": "code",
   "execution_count": null,
   "metadata": {},
   "outputs": [],
   "source": [
    "pd.DataFrame({'actual': y_train,\n",
    "              'lm': train.yhat,\n",
    "              'lm_baseline': train.tax_value})\\\n",
    ".melt(id_vars=['actual'], var_name='model', value_name='prediction')\\\n",
    ".pipe((sns.relplot, 'data'), x='actual', y='prediction', hue='model')\n",
    "\n",
    "\n",
    "min, max = 0, 5_000_000\n",
    "plt.plot([min, max], [min, max], c='black', ls=':')\n",
    "plt.ylim(min, max)\n",
    "plt.xlim(min, max)\n",
    "plt.title('Predicted vs Actual Tax Value')"
   ]
  },
  {
   "cell_type": "code",
   "execution_count": null,
   "metadata": {},
   "outputs": [],
   "source": [
    "print(\"R_base(MVP)= \", r2)"
   ]
  },
  {
   "cell_type": "code",
   "execution_count": null,
   "metadata": {},
   "outputs": [],
   "source": [
    "MSE_base = mean_squared_error(base_predictions.actual_value, base_predictions.baseline)\n",
    "SSE_base = MSE_base * len(base_predictions.actual_value)\n",
    "RMSE_base = sqrt(MSE_base)\n",
    "r2_base = r2_score(base_predictions.actual_value, base_predictions.baseline)\n",
    "print(MSE_base, SSE_base, RMSE_base, r2_base)"
   ]
  },
  {
   "cell_type": "code",
   "execution_count": null,
   "metadata": {},
   "outputs": [],
   "source": []
  },
  {
   "cell_type": "markdown",
   "metadata": {},
   "source": [
    "Conclusion from Mvp\n",
    "With an R^2 value of about 44%, you can see that the Linear Regression model does better with the three choosen  features (bedrooms, bathrooms, and sqft) than the baseline model of avg tax rate."
   ]
  },
  {
   "cell_type": "code",
   "execution_count": null,
   "metadata": {},
   "outputs": [],
   "source": []
  },
  {
   "cell_type": "markdown",
   "metadata": {},
   "source": [
    "1st feature, just using OC data"
   ]
  },
  {
   "cell_type": "code",
   "execution_count": null,
   "metadata": {},
   "outputs": [],
   "source": [
    "df_oc = df_base[df_tax.fips==6059]"
   ]
  },
  {
   "cell_type": "code",
   "execution_count": null,
   "metadata": {},
   "outputs": [],
   "source": [
    "#Split OC Data\n",
    "train_oc, test_oc = split_scale.split_my_data(df_oc,train_ratio=.8,seed=123)"
   ]
  },
  {
   "cell_type": "code",
   "execution_count": null,
   "metadata": {},
   "outputs": [],
   "source": [
    "X_train_oc = train_oc.drop(columns='tax_value')\n",
    "y_train_oc = train_oc[['tax_value']]\n",
    "X_test_oc = test_oc.drop(columns='tax_value')\n",
    "y_test_oc = test_oc[['tax_value']]"
   ]
  },
  {
   "cell_type": "code",
   "execution_count": null,
   "metadata": {},
   "outputs": [],
   "source": [
    "plt.figure(figsize=(8,6))\n",
    "cor = train_oc.corr()\n",
    "sns.heatmap(cor,annot=True,cmap=plt.cm.Reds)\n",
    "plt.show()"
   ]
  },
  {
   "cell_type": "code",
   "execution_count": null,
   "metadata": {},
   "outputs": [],
   "source": [
    "import statsmodels.api as sm\n",
    "from statsmodels.formula.api import ols\n",
    "#OLS object to analyze features\n",
    "\n",
    "# ols_model = sm.OLS(y_train,X_train)\n",
    "# fit = ols_model.fit()\n",
    "# fit.summary()\n",
    "\n",
    "ols_model = ols('y_train_oc ~ X_train_oc',data=train_oc).fit()\n",
    "train_oc['yhat_oc'] = ols_model.predict(y_train_oc)"
   ]
  },
  {
   "cell_type": "code",
   "execution_count": null,
   "metadata": {},
   "outputs": [],
   "source": [
    "#r2 of \n",
    "r2_lm1_oc = r2_score(y_train_oc,train_oc.yhat_oc)\n",
    "ocr2=r2_lm1_oc"
   ]
  },
  {
   "cell_type": "code",
   "execution_count": null,
   "metadata": {},
   "outputs": [],
   "source": [
    "print(ocr2)"
   ]
  },
  {
   "cell_type": "code",
   "execution_count": null,
   "metadata": {},
   "outputs": [],
   "source": [
    "print(\"R_base(MVP)= \", r2)"
   ]
  },
  {
   "cell_type": "markdown",
   "metadata": {},
   "source": [
    "Ultimate Conclusion-\n",
    "With the additional feature of sorting by county, the model performs better than the MVP. Isolating the Orange\n",
    "data improved the R to .54 vs the mvp of .43.\n",
    "\n",
    "This is just from isolating one county, the next step wopuld be to get more specific by location, with the \n",
    "information attained location seems to be the driving force for the properties assessed value (tax_value)"
   ]
  },
  {
   "cell_type": "code",
   "execution_count": null,
   "metadata": {},
   "outputs": [],
   "source": []
  }
 ],
 "metadata": {
  "kernelspec": {
   "display_name": "Python 3",
   "language": "python",
   "name": "python3"
  },
  "language_info": {
   "codemirror_mode": {
    "name": "ipython",
    "version": 3
   },
   "file_extension": ".py",
   "mimetype": "text/x-python",
   "name": "python",
   "nbconvert_exporter": "python",
   "pygments_lexer": "ipython3",
   "version": "3.7.3"
  }
 },
 "nbformat": 4,
 "nbformat_minor": 2
}
